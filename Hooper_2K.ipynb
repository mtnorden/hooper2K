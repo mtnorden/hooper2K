{
 "cells": [
  {
   "cell_type": "markdown",
   "metadata": {},
   "source": [
    "The hooper 2k method is a correlation developed to estimate the pressure drop a fluid loses given certain pipe fittings\n",
    "\n",
    "The equation is given in the following equation:\n",
    "\n",
    "$$K = \\frac{K_{1}}{Re} + K_{\\infty}(1+\\frac{1}{D})$$\n",
    "\n",
    "Where $K_1$ is the loss factor for the fitting at a reynolds number of 1 and $K_{\\infty}$ represents the loss factor at an infinite reynolds number."
   ]
  },
  {
   "cell_type": "code",
   "execution_count": 10,
   "metadata": {},
   "outputs": [],
   "source": [
    "#Import necessary libraries\n",
    "\n",
    "import fluids.fittings as fittings\n",
    "import matplotlib.pyplot as plt\n",
    "import numpy as np\n",
    "import ipywidgets as ipy\n",
    "import pandas as pd\n",
    "\n",
    "#Move Fittings Dictionary into a Pandas Dataframe\n",
    "\n",
    "HooperCoefficients = pd.DataFrame.from_dict(fittings.Hooper,orient='index')"
   ]
  },
  {
   "cell_type": "markdown",
   "metadata": {},
   "source": [
    "The dimensionless variable responsible for characterizing the type of flow is known as the reynolds number. This works by examining the ratio of inertial forces and viscous forces. It can be found below:\n",
    "\n",
    "$$Re = \\frac{D v \\rho}{\\mu}$$\n",
    "\n",
    "Where $D$ is the characteristic length, $v$ is the velocity of the flow, $\\rho$ is the density of the fluid, and $\\mu$ is the viscosity of the fluid."
   ]
  },
  {
   "cell_type": "code",
   "execution_count": 20,
   "metadata": {},
   "outputs": [],
   "source": [
    "def calculateReynolds(innerDiam:float,volFlow:float,viscosity:float,density:float)->float:\n",
    "    '''\n",
    "    Function takes in pipe inner diameter, fluid velocity, fluid viscosity, and fluid density and returns the reynolds number of the fluid.\n",
    "    \n",
    "    Parameters:\n",
    "        innerDiam (float): inner pipe diameter in inches\n",
    "        volFlow (float): Volumetric Flowrate in gallons per minute (gpm)\n",
    "        viscosity (float): dynamic viscosity in centipoise\n",
    "        density (float): density in pounds per cubic foot\n",
    "        \n",
    "    Returns:\n",
    "        Reynolds Number (float): dimensionless number characterizing fluid flow\n",
    "    '''\n",
    "    \n",
    "    #Converting to SI Units\n",
    "    innerDiam = innerDiam * 0.0254 #m\n",
    "    volFlow = volFlow / 15850 #m3/s\n",
    "    viscosity = viscosity / 1000 #Pa s\n",
    "    density = density * 16.0185 #kg/m3\n",
    "    \n",
    "    #Calculating velocity\n",
    "    area = np.pi * np.pow(innerDiam,2) / 4 #m2\n",
    "    velocity = volFlow / area #m/s\n",
    "    \n",
    "    #return reynolds number\n",
    "    return (innerDiam * velocity * density / viscosity)\n",
    "    "
   ]
  },
  {
   "cell_type": "code",
   "execution_count": null,
   "metadata": {},
   "outputs": [
    {
     "data": {
      "text/plain": [
       "np.float64(10065.549461319777)"
      ]
     },
     "execution_count": 25,
     "metadata": {},
     "output_type": "execute_result"
    }
   ],
   "source": []
  },
  {
   "cell_type": "code",
   "execution_count": null,
   "metadata": {},
   "outputs": [],
   "source": []
  }
 ],
 "metadata": {
  "kernelspec": {
   "display_name": "Python 3",
   "language": "python",
   "name": "python3"
  },
  "language_info": {
   "codemirror_mode": {
    "name": "ipython",
    "version": 3
   },
   "file_extension": ".py",
   "mimetype": "text/x-python",
   "name": "python",
   "nbconvert_exporter": "python",
   "pygments_lexer": "ipython3",
   "version": "3.12.9"
  }
 },
 "nbformat": 4,
 "nbformat_minor": 2
}
